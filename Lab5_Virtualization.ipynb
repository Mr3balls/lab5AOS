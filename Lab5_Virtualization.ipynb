{
  "nbformat": 4,
  "nbformat_minor": 0,
  "metadata": {
    "colab": {
      "provenance": []
    },
    "kernelspec": {
      "name": "python3",
      "display_name": "Python 3"
    },
    "language_info": {
      "name": "python"
    }
  },
  "cells": [
    {
      "cell_type": "code",
      "execution_count": 12,
      "metadata": {
        "id": "G67OiGhBpdhx"
      },
      "outputs": [],
      "source": [
        "class VirtualMachine:\n",
        "    def __init__(self, id, name, cpu, memory, storage):\n",
        "        self.id = id\n",
        "        self.name = name\n",
        "        self.total_cpu = cpu\n",
        "        self.total_memory = memory\n",
        "        self.total_storage = storage\n",
        "        self.available_cpu = cpu\n",
        "        self.available_memory = memory\n",
        "        self.available_storage = storage\n",
        "        self.running_apps = []\n",
        "\n",
        "    def run_app(self, app, cpu, memory, storage):\n",
        "        if cpu <= self.available_cpu and memory <= self.available_memory and storage <= self.available_storage:\n",
        "            self.running_apps.append((app, cpu, memory, storage))\n",
        "            self.available_cpu -= cpu\n",
        "            self.available_memory -= memory\n",
        "            self.available_storage -= storage\n",
        "            print(f\"{app} is now running on {self.name}.\")\n",
        "        else:\n",
        "            print(f\"Not enough resources to run {app} on {self.name}.\")\n",
        "\n",
        "    def stop_app(self, app, cpu, memory, storage):\n",
        "        if (app, cpu, memory, storage) in self.running_apps:\n",
        "            self.running_apps.remove((app, cpu, memory, storage))\n",
        "            self.available_cpu += cpu\n",
        "            self.available_memory += memory\n",
        "            self.available_storage += storage\n",
        "            print(f\"{app} has been stopped on {self.name}.\")\n",
        "        else:\n",
        "            print(f\"{app} is not running on {self.name}.\")\n",
        "\n",
        "    def show_specs(self):\n",
        "        print(f\"\\nVirtual Machine {self.name} Specs:\")\n",
        "        print(f\"CPU: {self.available_cpu}/{self.total_cpu}\")\n",
        "        print(f\"Memory: {self.available_memory}GB/{self.total_memory}GB\")\n",
        "        print(f\"Storage: {self.available_storage}GB/{self.total_storage}GB\")\n",
        "        print(f\"Running Applications: {self.running_apps}\")\n"
      ]
    },
    {
      "cell_type": "markdown",
      "source": [],
      "metadata": {
        "id": "278YLqKiq-pu"
      }
    },
    {
      "cell_type": "code",
      "source": [
        "class Hypervisor:\n",
        "    def __init__(self, id, name):\n",
        "        self.id = id\n",
        "        self.name = name\n",
        "        self.vms = []\n",
        "\n",
        "    def create_vm(self, vm):\n",
        "        self.vms.append(vm)\n",
        "        print(f\"VM {vm.name} added to Hypervisor {self.name}.\")\n",
        "\n",
        "    def remove_vm(self, vm):\n",
        "        if vm in self.vms:\n",
        "            self.vms.remove(vm)\n",
        "            print(f\"VM {vm.name} removed from Hypervisor {self.name}.\")\n",
        "        else:\n",
        "            print(f\"VM {vm.name} not found on Hypervisor {self.name}.\")\n",
        "\n",
        "    def list_vms(self):\n",
        "        print(f\"\\nVMs on Hypervisor {self.name}:\")\n",
        "        for vm in self.vms:\n",
        "            print(f\"- {vm.name}\")\n"
      ],
      "metadata": {
        "id": "oCahzmXbpxsu"
      },
      "execution_count": 11,
      "outputs": []
    },
    {
      "cell_type": "code",
      "source": [
        "\n",
        "hypervisor = Hypervisor(1, \"HyperV\")\n",
        "\n",
        "\n",
        "vm1 = VirtualMachine(1, \"VM1\", 2, 8, 500)\n",
        "vm2 = VirtualMachine(2, \"VM2\", 4, 16, 1000)\n",
        "\n",
        "hypervisor.create_vm(vm1)\n",
        "hypervisor.create_vm(vm2)\n",
        "\n",
        "\n",
        "hypervisor.list_vms()\n",
        "\n",
        "vm1.show_specs()\n",
        "vm2.show_specs()\n",
        "\n",
        "\n",
        "vm1.run_app(\"App1\", 1, 2, 125)\n",
        "vm2.run_app(\"App2\", 1, 12, 750)\n",
        "\n",
        "vm1.stop_app(\"App1\", 1, 2, 125)\n",
        "vm2.stop_app(\"App2\", 1, 12, 750)\n",
        "\n",
        "vm1.show_specs()\n",
        "vm2.show_specs()\n"
      ],
      "metadata": {
        "colab": {
          "base_uri": "https://localhost:8080/"
        },
        "id": "l6fWpG6QqQs5",
        "outputId": "6fc23197-f35f-431a-ab93-dae1280a7910"
      },
      "execution_count": 10,
      "outputs": [
        {
          "output_type": "stream",
          "name": "stdout",
          "text": [
            "VM VM1 added to Hypervisor HyperV.\n",
            "VM VM2 added to Hypervisor HyperV.\n",
            "\n",
            "VMs on Hypervisor HyperV:\n",
            "- VM1\n",
            "- VM2\n",
            "\n",
            "Virtual Machine VM1 Specs:\n",
            "CPU: 2/2\n",
            "Memory: 8GB/8GB\n",
            "Storage: 500GB/500GB\n",
            "Running Applications: []\n",
            "\n",
            "Virtual Machine VM2 Specs:\n",
            "CPU: 4/4\n",
            "Memory: 16GB/16GB\n",
            "Storage: 1000GB/1000GB\n",
            "Running Applications: []\n",
            "App1 is now running on VM1.\n",
            "App2 is now running on VM2.\n",
            "App1 has been stopped on VM1.\n",
            "App2 has been stopped on VM2.\n",
            "\n",
            "Virtual Machine VM1 Specs:\n",
            "CPU: 2/2\n",
            "Memory: 8GB/8GB\n",
            "Storage: 500GB/500GB\n",
            "Running Applications: []\n",
            "\n",
            "Virtual Machine VM2 Specs:\n",
            "CPU: 4/4\n",
            "Memory: 16GB/16GB\n",
            "Storage: 1000GB/1000GB\n",
            "Running Applications: []\n"
          ]
        }
      ]
    },
    {
      "cell_type": "code",
      "source": [
        "# Повторно запускаем по 2 приложения на каждую ВМ\n",
        "vm1.run_app(\"App1\", 1, 2, 125)\n",
        "vm1.run_app(\"App3\", 1, 2, 100)\n",
        "\n",
        "vm2.run_app(\"App2\", 1, 12, 750)\n",
        "vm2.run_app(\"App4\", 1, 1, 100)\n",
        "\n",
        "# Расчёт использования ресурсов\n",
        "def calculate_usage(vm):\n",
        "    used_cpu = vm.total_cpu - vm.available_cpu\n",
        "    used_memory = vm.total_memory - vm.available_memory\n",
        "    used_storage = vm.total_storage - vm.available_storage\n",
        "\n",
        "    print(f\"\\n📊 Использование ресурсов ВМ {vm.name}:\")\n",
        "    print(f\"CPU: {used_cpu}/{vm.total_cpu} ({(used_cpu/vm.total_cpu)*100:.2f}%)\")\n",
        "    print(f\"Память: {used_memory}/{vm.total_memory}ГБ ({(used_memory/vm.total_memory)*100:.2f}%)\")\n",
        "    print(f\"Хранилище: {used_storage}/{vm.total_storage}ГБ ({(used_storage/vm.total_storage)*100:.2f}%)\")\n",
        "\n",
        "calculate_usage(vm1)\n",
        "calculate_usage(vm2)\n"
      ],
      "metadata": {
        "colab": {
          "base_uri": "https://localhost:8080/"
        },
        "id": "iirhXtnWqwkd",
        "outputId": "3aec77ac-6676-4177-bdf4-5690e6252bd6"
      },
      "execution_count": 6,
      "outputs": [
        {
          "output_type": "stream",
          "name": "stdout",
          "text": [
            "App1 is now running on VM1.\n",
            "App3 is now running on VM1.\n",
            "App2 is now running on VM2.\n",
            "App4 is now running on VM2.\n",
            "\n",
            "📊 Использование ресурсов ВМ VM1:\n",
            "CPU: 2/2 (100.00%)\n",
            "Память: 4/8ГБ (50.00%)\n",
            "Хранилище: 225/500ГБ (45.00%)\n",
            "\n",
            "📊 Использование ресурсов ВМ VM2:\n",
            "CPU: 2/4 (50.00%)\n",
            "Память: 13/16ГБ (81.25%)\n",
            "Хранилище: 850/1000ГБ (85.00%)\n"
          ]
        }
      ]
    }
  ]
}